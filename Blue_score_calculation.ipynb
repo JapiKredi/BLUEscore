{
  "nbformat": 4,
  "nbformat_minor": 0,
  "metadata": {
    "colab": {
      "provenance": [],
      "authorship_tag": "ABX9TyMUepHQXfMhU7LkHLAHyS2n",
      "include_colab_link": true
    },
    "kernelspec": {
      "name": "python3",
      "display_name": "Python 3"
    },
    "language_info": {
      "name": "python"
    }
  },
  "cells": [
    {
      "cell_type": "markdown",
      "metadata": {
        "id": "view-in-github",
        "colab_type": "text"
      },
      "source": [
        "<a href=\"https://colab.research.google.com/github/JapiKredi/BLUEscore/blob/main/Blue_score_calculation.ipynb\" target=\"_parent\"><img src=\"https://colab.research.google.com/assets/colab-badge.svg\" alt=\"Open In Colab\"/></a>"
      ]
    },
    {
      "cell_type": "code",
      "execution_count": 1,
      "metadata": {
        "id": "BXKhWvsbIAds"
      },
      "outputs": [],
      "source": [
        "from collections import Counter\n",
        "import nltk.translate.bleu_score as bleu"
      ]
    },
    {
      "cell_type": "code",
      "source": [
        "# Example usage\n",
        "generated_summary = \"The dog slept on the couch.\"\n",
        "reference_summary = \"The cat sat on the mat.\"\n",
        "n = 2  # Bigram"
      ],
      "metadata": {
        "id": "0ppaKBA6IDT2"
      },
      "execution_count": 2,
      "outputs": []
    },
    {
      "cell_type": "code",
      "source": [
        "def calculate_BLEU(generated_summary, reference_summary, n):\n",
        "    # Tokenize the generated summary and reference summary\n",
        "    generated_tokens = generated_summary.split()\n",
        "    reference_tokens = reference_summary.split()\n",
        "\n",
        "    # Calculate the BLEU score\n",
        "    weights = [1.0 / n] * n  # Weights for n-gram precision calculation\n",
        "    bleu_score = bleu.sentence_bleu([reference_tokens], generated_tokens, weights=weights)\n",
        "\n",
        "    return bleu_score"
      ],
      "metadata": {
        "id": "VF-HazzyIEQr"
      },
      "execution_count": 3,
      "outputs": []
    },
    {
      "cell_type": "code",
      "source": [
        "bleu_score = calculate_BLEU(generated_summary, reference_summary, n)\n",
        "print(f\"BLEU-{n} score: {bleu_score}\")"
      ],
      "metadata": {
        "colab": {
          "base_uri": "https://localhost:8080/"
        },
        "id": "FXpAJhc6IHk5",
        "outputId": "7ae088a2-a9bd-438f-cb1f-59a88cabd53a"
      },
      "execution_count": 5,
      "outputs": [
        {
          "output_type": "stream",
          "name": "stdout",
          "text": [
            "BLEU-2 score: 0.316227766016838\n"
          ]
        }
      ]
    },
    {
      "cell_type": "code",
      "source": [],
      "metadata": {
        "id": "nZ-b_igKIKP8"
      },
      "execution_count": null,
      "outputs": []
    }
  ]
}